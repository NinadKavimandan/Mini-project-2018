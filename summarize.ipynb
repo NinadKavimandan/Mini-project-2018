{
 "cells": [
  {
   "cell_type": "code",
   "execution_count": 1,
   "metadata": {
    "collapsed": true
   },
   "outputs": [],
   "source": [
    "from collections import Counter"
   ]
  },
  {
   "cell_type": "code",
   "execution_count": 2,
   "metadata": {},
   "outputs": [
    {
     "name": "stdout",
     "output_type": "stream",
     "text": [
      "['The Taj Mahal meaning Crown of the Palace is an ivory-white marble mausoleum on the south bank of the Yamuna river in the Indian city of Agra', ' It was commissioned in 1632 by the Mughal emperor, Shah Jahan, to house the tomb of his favourite wife, Mumtaz Mahal', ' The tomb is the centrepiece of a 17-hectare complex, which includes a mosque and a guest house, and is set in formal gardens bounded on three sides by a crenellated wall', ' Construction of the mausoleum was essentially completed in 1643 but work continued on other phases of the project for another 10 years', ' The Taj Mahal complex is believed to have been completed in its entirety in 1653 at a cost estimated at the time to be around 32 million rupees, which in 2015 would be approximately 52', '8 billion rupees', ' The construction project employed some 20,000 artisans under the guidance of a board of architects led by the court architect to the emperor, Ustad Ahmad Lahauri', ' The Taj Mahal was designated as a UNESCO World Heritage Site in 1983 for being \"the jewel of Muslim art in India and one of the universally admired masterpieces of the world\\'s heritage\"', \" It is regarded by many as the best example of Mughal architecture and a symbol of India's rich history\", ' The Taj Mahal attracts 7–8 million visitors a year', ' In 2007, it was declared a winner of the New 7 Wonders of the World initiative']\n"
     ]
    }
   ],
   "source": [
    "data = ''\n",
    "with open('sample_article.txt','r') as f:\n",
    "    data = f.read()\n",
    "\n",
    "from nltk import sent_tokenize\n",
    "\n",
    "#sentences = sent_tokenize(data)\n",
    "sentences = data.split('.')\n",
    "sentences = sentences[:len(sentences)-1]\n",
    "print (sentences)"
   ]
  },
  {
   "cell_type": "code",
   "execution_count": 3,
   "metadata": {
    "collapsed": true
   },
   "outputs": [],
   "source": [
    "from nltk.tokenize import word_tokenize\n",
    "\n",
    "words = []\n",
    "for l in sentences:\n",
    "    cur_words = word_tokenize(l.lower())\n",
    "    #print (cur_words)\n",
    "    words += cur_words"
   ]
  },
  {
   "cell_type": "code",
   "execution_count": 4,
   "metadata": {},
   "outputs": [
    {
     "name": "stdout",
     "output_type": "stream",
     "text": [
      "['mahal', 'taj', 'wa', 'world', 'mausoleum', 'mughal', 'emperor', 'house', 'tomb', 'complex']\n"
     ]
    }
   ],
   "source": [
    "from nltk.stem import WordNetLemmatizer\n",
    "\n",
    "lemmatizer = WordNetLemmatizer()\n",
    "\n",
    "words = [lemmatizer.lemmatize(word) for word in words]\n",
    "\n",
    "from nltk.corpus import stopwords\n",
    "\n",
    "stop_words = set(stopwords.words('english'))\n",
    "#print (words)\n",
    "import string\n",
    "puncts = string.punctuation\n",
    "words = [word for word in words if word not in stop_words and word not in puncts]\n",
    "\n",
    "word_count = Counter(words)\n",
    "\n",
    "commonWords = word_count.most_common(10)\n",
    "\n",
    "topWordList = [word[0] for word in commonWords]\n",
    "\n",
    "print (topWordList)"
   ]
  },
  {
   "cell_type": "code",
   "execution_count": 5,
   "metadata": {
    "collapsed": true
   },
   "outputs": [],
   "source": [
    "abstract = ''\n",
    "for sentence in sentences:\n",
    "    score = 0\n",
    "    for word in topWordList:\n",
    "        if word in sentence:\n",
    "            score +=1\n",
    "    if score > 3:\n",
    "        abstract += sentence+'.'"
   ]
  },
  {
   "cell_type": "code",
   "execution_count": 6,
   "metadata": {},
   "outputs": [
    {
     "name": "stdout",
     "output_type": "stream",
     "text": [
      "\n",
      "Article: \n",
      "\n",
      "The Taj Mahal meaning Crown of the Palace is an ivory-white marble mausoleum on the south bank of the Yamuna river in the Indian city of Agra. It was commissioned in 1632 by the Mughal emperor, Shah Jahan, to house the tomb of his favourite wife, Mumtaz Mahal. The tomb is the centrepiece of a 17-hectare complex, which includes a mosque and a guest house, and is set in formal gardens bounded on three sides by a crenellated wall. Construction of the mausoleum was essentially completed in 1643 but work continued on other phases of the project for another 10 years. The Taj Mahal complex is believed to have been completed in its entirety in 1653 at a cost estimated at the time to be around 32 million rupees, which in 2015 would be approximately 52.8 billion rupees. The construction project employed some 20,000 artisans under the guidance of a board of architects led by the court architect to the emperor, Ustad Ahmad Lahauri. The Taj Mahal was designated as a UNESCO World Heritage Site in 1983 for being \"the jewel of Muslim art in India and one of the universally admired masterpieces of the world's heritage\". It is regarded by many as the best example of Mughal architecture and a symbol of India's rich history. The Taj Mahal attracts 7–8 million visitors a year. In 2007, it was declared a winner of the New 7 Wonders of the World initiative.\n",
      "\n",
      "Abstract: \n",
      "\n",
      " It was commissioned in 1632 by the Mughal emperor, Shah Jahan, to house the tomb of his favourite wife, Mumtaz Mahal. The tomb is the centrepiece of a 17-hectare complex, which includes a mosque and a guest house, and is set in formal gardens bounded on three sides by a crenellated wall.\n"
     ]
    }
   ],
   "source": [
    "print ('\\nArticle: \\n')\n",
    "print (data)\n",
    "\n",
    "print ('\\nAbstract: \\n')\n",
    "print (abstract)"
   ]
  },
  {
   "cell_type": "code",
   "execution_count": null,
   "metadata": {
    "collapsed": true
   },
   "outputs": [],
   "source": []
  }
 ],
 "metadata": {
  "kernelspec": {
   "display_name": "Python 3",
   "language": "python",
   "name": "python3"
  },
  "language_info": {
   "codemirror_mode": {
    "name": "ipython",
    "version": 3
   },
   "file_extension": ".py",
   "mimetype": "text/x-python",
   "name": "python",
   "nbconvert_exporter": "python",
   "pygments_lexer": "ipython3",
   "version": "3.6.1"
  }
 },
 "nbformat": 4,
 "nbformat_minor": 2
}
