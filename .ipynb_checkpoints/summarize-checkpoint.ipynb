{
 "cells": [
  {
   "cell_type": "code",
   "execution_count": 1,
   "metadata": {
    "collapsed": true
   },
   "outputs": [],
   "source": [
    "from collections import Counter"
   ]
  },
  {
   "cell_type": "code",
   "execution_count": 2,
   "metadata": {},
   "outputs": [
    {
     "name": "stdout",
     "output_type": "stream",
     "text": [
      "['The appellant claims to possess a well-founded fear of persecution on the grounds of race, religion and membership of a particular social group, said to be either Indonesian women or Chinese Christian women in Indonesia', 'The Tribunal accepted that the appellant was raped on two separate occasions a few weeks before leaving Indonesia and arriving in Australia in July 2001', \"At the time of the first sexual assault, the appellant's attacker told her not to inform the police of his actions lest he harm her again\", \"The appellant's father and brother nevertheless complained to the police\", 'The appellant then moved to the home of her relatives', 'She claimed that she was stalked by her attacker', 'The second sexual assault was carried out by the same attacker and another man', 'The appellant claimed that her rapists were Muslim men', 'She also claimed they were policemen', ' The appellant claimed her fear of persecution arose from the rapes', 'The appellant claimed to fear that she will be raped again should she return to Indonesia, either by the man who raped her on both occasions, or by Muslim men ', 'Leave to raise new grounds of appeal']\n"
     ]
    }
   ],
   "source": [
    "data = ''\n",
    "with open('sample_article.txt','r') as f:\n",
    "    data = f.read()\n",
    "\n",
    "from nltk import sent_tokenize\n",
    "\n",
    "#sentences = sent_tokenize(data)\n",
    "sentences = data.split('.')\n",
    "sentences = sentences[:len(sentences)-1]\n",
    "print (sentences)"
   ]
  },
  {
   "cell_type": "code",
   "execution_count": 3,
   "metadata": {
    "collapsed": true
   },
   "outputs": [],
   "source": [
    "from nltk.tokenize import word_tokenize\n",
    "\n",
    "words = []\n",
    "for l in sentences:\n",
    "    cur_words = word_tokenize(l.lower())\n",
    "    #print (cur_words)\n",
    "    words += cur_words"
   ]
  },
  {
   "cell_type": "code",
   "execution_count": 4,
   "metadata": {},
   "outputs": [
    {
     "name": "stdout",
     "output_type": "stream",
     "text": [
      "['appellant', 'claimed', 'fear', 'indonesia', 'wa', 'raped', 'attacker', 'persecution', 'ground', 'either']\n"
     ]
    }
   ],
   "source": [
    "from nltk.stem import WordNetLemmatizer\n",
    "\n",
    "lemmatizer = WordNetLemmatizer()\n",
    "\n",
    "words = [lemmatizer.lemmatize(word) for word in words]\n",
    "\n",
    "from nltk.corpus import stopwords\n",
    "\n",
    "stop_words = set(stopwords.words('english'))\n",
    "#print (words)\n",
    "import string\n",
    "puncts = string.punctuation\n",
    "words = [word for word in words if word not in stop_words and word not in puncts]\n",
    "\n",
    "word_count = Counter(words)\n",
    "\n",
    "commonWords = word_count.most_common(10)\n",
    "\n",
    "topWordList = [word[0] for word in commonWords]\n",
    "\n",
    "print (topWordList)"
   ]
  },
  {
   "cell_type": "code",
   "execution_count": 5,
   "metadata": {
    "collapsed": true
   },
   "outputs": [],
   "source": [
    "abstract = ''\n",
    "for sentence in sentences:\n",
    "    score = 0\n",
    "    for word in topWordList:\n",
    "        if word in sentence:\n",
    "            score +=1\n",
    "    if score > 3:\n",
    "        abstract += sentence+'.'"
   ]
  },
  {
   "cell_type": "code",
   "execution_count": 6,
   "metadata": {},
   "outputs": [
    {
     "name": "stdout",
     "output_type": "stream",
     "text": [
      "\n",
      "Article: \n",
      "\n",
      "The appellant claims to possess a well-founded fear of persecution on the grounds of race, religion and membership of a particular social group, said to be either Indonesian women or Chinese Christian women in Indonesia.The Tribunal accepted that the appellant was raped on two separate occasions a few weeks before leaving Indonesia and arriving in Australia in July 2001.At the time of the first sexual assault, the appellant's attacker told her not to inform the police of his actions lest he harm her again.The appellant's father and brother nevertheless complained to the police.The appellant then moved to the home of her relatives.She claimed that she was stalked by her attacker.The second sexual assault was carried out by the same attacker and another man.The appellant claimed that her rapists were Muslim men.She also claimed they were policemen. The appellant claimed her fear of persecution arose from the rapes.The appellant claimed to fear that she will be raped again should she return to Indonesia, either by the man who raped her on both occasions, or by Muslim men .Leave to raise new grounds of appeal.\n",
      "\n",
      "Abstract: \n",
      "\n",
      "The appellant claims to possess a well-founded fear of persecution on the grounds of race, religion and membership of a particular social group, said to be either Indonesian women or Chinese Christian women in Indonesia. The appellant claimed her fear of persecution arose from the rapes.The appellant claimed to fear that she will be raped again should she return to Indonesia, either by the man who raped her on both occasions, or by Muslim men .\n"
     ]
    }
   ],
   "source": [
    "print ('\\nArticle: \\n')\n",
    "print (data)\n",
    "\n",
    "print ('\\nAbstract: \\n')\n",
    "print (abstract)"
   ]
  }
 ],
 "metadata": {
  "kernelspec": {
   "display_name": "Python 3",
   "language": "python",
   "name": "python3"
  },
  "language_info": {
   "codemirror_mode": {
    "name": "ipython",
    "version": 3
   },
   "file_extension": ".py",
   "mimetype": "text/x-python",
   "name": "python",
   "nbconvert_exporter": "python",
   "pygments_lexer": "ipython3",
   "version": "3.6.1"
  }
 },
 "nbformat": 4,
 "nbformat_minor": 2
}
