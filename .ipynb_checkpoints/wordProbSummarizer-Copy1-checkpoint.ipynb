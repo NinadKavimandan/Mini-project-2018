{
 "cells": [
  {
   "cell_type": "code",
   "execution_count": 1,
   "metadata": {
    "collapsed": true
   },
   "outputs": [],
   "source": [
    "from nltk.tokenize import word_tokenize\n",
    "from nltk.stem import WordNetLemmatizer\n",
    "lemmatizer = WordNetLemmatizer()\n",
    "from nltk.corpus import stopwords\n",
    "stop_words = set(stopwords.words('english'))\n",
    "import string\n",
    "puncts = string.punctuation\n",
    "from collections import Counter\n",
    "#word_count = Counter(words)\n",
    "#commonWords = word_count.most_common(10)"
   ]
  },
  {
   "cell_type": "code",
   "execution_count": 2,
   "metadata": {
    "collapsed": true
   },
   "outputs": [],
   "source": [
    "def tokenizeImpWords(sentence):\n",
    "    words = word_tokenize(sentence.lower())\n",
    "    words = [word for word in words if word not in stop_words and word not in puncts]\n",
    "    return list(set(words))"
   ]
  },
  {
   "cell_type": "code",
   "execution_count": 3,
   "metadata": {},
   "outputs": [
    {
     "name": "stdout",
     "output_type": "stream",
     "text": [
      "['The Taj Mahal meaning Crown of the Palace is an ivory-white marble mausoleum on the south bank of the Yamuna river in the Indian city of Agra.', 'It was commissioned in 1632 by the Mughal emperor, Shah Jahan, to house the tomb of his favourite wife, Mumtaz Mahal.', 'The tomb is the centrepiece of a 17-hectare complex, which includes a mosque and a guest house, and is set in formal gardens bounded on three sides by a crenellated wall.', 'Construction of the mausoleum was essentially completed in 1643 but work continued on other phases of the project for another 10 years.', 'The Taj Mahal complex is believed to have been completed in its entirety in 1653 at a cost estimated at the time to be around 32 million rupees, which in 2015 would be approximately 52.8 billion rupees.', 'The construction project employed some 20,000 artisans under the guidance of a board of architects led by the court architect to the emperor, Ustad Ahmad Lahauri.', 'The Taj Mahal was designated as a UNESCO World Heritage Site in 1983 for being \"the jewel of Muslim art in India and one of the universally admired masterpieces of the world\\'s heritage\".', \"It is regarded by many as the best example of Mughal architecture and a symbol of India's rich history.\", 'The Taj Mahal attracts 7–8 million visitors a year.', 'In 2007, it was declared a winner of the New 7 Wonders of the World initiative.']\n"
     ]
    }
   ],
   "source": [
    "data = ''\n",
    "with open('sample_article.txt','r') as f:\n",
    "    data = f.read()\n",
    "\n",
    "from nltk import sent_tokenize\n",
    "\n",
    "sentences = sent_tokenize(data)\n",
    "#sentences = data.split('.')\n",
    "#sentences = sentences[:len(sentences)-1]\n",
    "print (sentences)\n",
    "\n",
    "wordDict = []\n",
    "for sentence in sentences:\n",
    "    wordDict += tokenizeImpWords(sentence)\n",
    "    \n",
    "wordDict = wordDict\n",
    "word_count = Counter(wordDict)\n",
    "N = len(wordDict)"
   ]
  },
  {
   "cell_type": "code",
   "execution_count": 4,
   "metadata": {
    "collapsed": true
   },
   "outputs": [],
   "source": [
    "def word_score(word):\n",
    "    return (word_count[word]/N)"
   ]
  },
  {
   "cell_type": "code",
   "execution_count": 5,
   "metadata": {
    "collapsed": true
   },
   "outputs": [],
   "source": [
    "def SumBasic(sentence):\n",
    "    wordCollection = tokenizeImpWords(sentence)\n",
    "    totalCard = len(wordCollection)\n",
    "    \n",
    "    sentenceScore = 0\n",
    "    for word in wordCollection:\n",
    "        sentenceScore += word_score(word)\n",
    "    \n",
    "    return sentenceScore"
   ]
  },
  {
   "cell_type": "code",
   "execution_count": 6,
   "metadata": {},
   "outputs": [
    {
     "name": "stdout",
     "output_type": "stream",
     "text": [
      "Total words:  134\n",
      "['city', 'marble', 'river', 'south', 'meaning', 'bank', 'crown', 'mahal', 'ivory-white', 'indian', 'mausoleum', 'taj', 'agra', 'yamuna', 'palace', 'mughal', 'house', 'emperor', 'tomb', 'wife', 'commissioned', 'shah', 'favourite', '1632', 'mahal', 'mumtaz', 'jahan', 'formal', 'bounded', 'house', 'set', 'includes', 'centrepiece', 'crenellated', 'gardens', 'tomb', 'mosque', 'sides', 'complex', 'wall', 'guest', 'three', '17-hectare', 'completed', 'phases', 'continued', 'another', '10', 'construction', 'project', '1643', 'years', 'mausoleum', 'work', 'essentially', 'completed', '52.8', 'entirety', 'cost', 'believed', 'time', 'would', '1653', 'billion', 'approximately', '2015', '32', 'around', 'mahal', 'estimated', 'taj', 'rupees', 'complex', 'million', 'employed', 'guidance', 'emperor', 'board', 'ustad', 'led', '20,000', 'construction', 'project', 'court', 'lahauri', 'artisans', 'architect', 'ahmad', 'architects', 'designated', 'muslim', 'world', 'one', \"'s\", 'jewel', 'heritage', 'india', 'site', 'mahal', '``', 'universally', 'masterpieces', \"''\", '1983', 'taj', 'unesco', 'admired', 'art', 'mughal', 'regarded', \"'s\", 'best', 'rich', 'example', 'architecture', 'many', 'symbol', 'history', 'india', 'year', 'attracts', 'visitors', 'mahal', '7–8', 'taj', 'million', 'declared', '7', '2007', 'world', 'wonders', 'initiative', 'new', 'winner']\n",
      "The Taj Mahal meaning Crown of the Palace is an ivory-white marble mausoleum on the south bank of the Yamuna river in the Indian city of Agra. : Score->  0.1716417910447761\n",
      "It was commissioned in 1632 by the Mughal emperor, Shah Jahan, to house the tomb of his favourite wife, Mumtaz Mahal. : Score->  0.14925373134328354\n",
      "The tomb is the centrepiece of a 17-hectare complex, which includes a mosque and a guest house, and is set in formal gardens bounded on three sides by a crenellated wall. : Score->  0.14179104477611937\n",
      "Construction of the mausoleum was essentially completed in 1643 but work continued on other phases of the project for another 10 years. : Score->  0.11940298507462684\n",
      "The Taj Mahal complex is believed to have been completed in its entirety in 1653 at a cost estimated at the time to be around 32 million rupees, which in 2015 would be approximately 52.8 billion rupees. : Score->  0.21641791044776112\n",
      "The construction project employed some 20,000 artisans under the guidance of a board of architects led by the court architect to the emperor, Ustad Ahmad Lahauri. : Score->  0.1343283582089552\n",
      "The Taj Mahal was designated as a UNESCO World Heritage Site in 1983 for being \"the jewel of Muslim art in India and one of the universally admired masterpieces of the world's heritage\". : Score->  0.21641791044776112\n",
      "It is regarded by many as the best example of Mughal architecture and a symbol of India's rich history. : Score->  0.10447761194029849\n",
      "The Taj Mahal attracts 7–8 million visitors a year. : Score->  0.11194029850746268\n",
      "In 2007, it was declared a winner of the New 7 Wonders of the World initiative. : Score->  0.06716417910447761\n"
     ]
    }
   ],
   "source": [
    "print ('Total words: ', N)\n",
    "print (wordDict)\n",
    "\n",
    "sentImpMap = {}\n",
    "cnt=0\n",
    "for sentence in sentences:\n",
    "    print (sentence,': Score-> ', SumBasic(sentence))\n",
    "    sentImpMap[cnt] = SumBasic(sentence)\n",
    "    cnt+=1"
   ]
  },
  {
   "cell_type": "code",
   "execution_count": 7,
   "metadata": {},
   "outputs": [
    {
     "name": "stdout",
     "output_type": "stream",
     "text": [
      "The Taj Mahal complex is believed to have been completed in its entirety in 1653 at a cost estimated at the time to be around 32 million rupees, which in 2015 would be approximately 52.8 billion rupees.The Taj Mahal was designated as a UNESCO World Heritage Site in 1983 for being \"the jewel of Muslim art in India and one of the universally admired masterpieces of the world's heritage\".The Taj Mahal meaning Crown of the Palace is an ivory-white marble mausoleum on the south bank of the Yamuna river in the Indian city of Agra."
     ]
    }
   ],
   "source": [
    "import operator\n",
    "sentImpMap_sorted = sorted(sentImpMap.items() ,key=operator.itemgetter(1), reverse=True)\n",
    "i=0\n",
    "for (key, value) in sentImpMap_sorted:\n",
    "    if i==3:\n",
    "        break\n",
    "    print (sentences[key], end='')\n",
    "    i+=1"
   ]
  },
  {
   "cell_type": "code",
   "execution_count": null,
   "metadata": {
    "collapsed": true
   },
   "outputs": [],
   "source": []
  }
 ],
 "metadata": {
  "kernelspec": {
   "display_name": "Python 3",
   "language": "python",
   "name": "python3"
  },
  "language_info": {
   "codemirror_mode": {
    "name": "ipython",
    "version": 3
   },
   "file_extension": ".py",
   "mimetype": "text/x-python",
   "name": "python",
   "nbconvert_exporter": "python",
   "pygments_lexer": "ipython3",
   "version": "3.6.1"
  }
 },
 "nbformat": 4,
 "nbformat_minor": 2
}
